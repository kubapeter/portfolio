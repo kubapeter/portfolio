{
 "cells": [
  {
   "cell_type": "markdown",
   "metadata": {},
   "source": [
    "# Operations Reasearch: Examples for Gurobipy\n",
    "\n",
    "This code is for students who take the class Operations Research.\n",
    "Students should finish the installation of Gurobi and Python before started and make sure an academic liscense for Gurobi is applied and activated.\n",
    "\n",
    "We introduce 3 examples for linear program, integer program, and nonlinear program respectively in order to help students understand how to solve optimization programs with codes.\n",
    "More insturction is provided in the lecture video."
   ]
  },
  {
   "cell_type": "markdown",
   "metadata": {},
   "source": [
    "## Portfolio optimization\n",
    "\n",
    "In the last example, we introduce how to solve a nonlinear program. The basic idea is the same, but students need to understand how it works and the limitation of Gurobi solver.\n",
    "\n",
    "The problem description and the model formulation are provided in the lecture video and slides, we only write down the corresponding codes here."
   ]
  },
  {
   "cell_type": "code",
   "execution_count": 1,
   "metadata": {},
   "outputs": [],
   "source": [
    "from gurobipy import *\n",
    "import pandas as pd"
   ]
  },
  {
   "cell_type": "code",
   "execution_count": 2,
   "metadata": {},
   "outputs": [],
   "source": [
    "stock_info = pd.read_excel('NLP_dataset.xlsx', 'Stock information')\n",
    "stocks = range(len(stock_info['Stock']))\n",
    "prices = stock_info['Price']\n",
    "exp_prices = stock_info['Expected price']\n",
    "variances = stock_info['Variance of the price']\n",
    "\n",
    "other_info = pd.read_excel('NLP_dataset.xlsx', 'Budget and min_exp_profit')\n",
    "budget = other_info['Budget']\n",
    "min_exp_rev = other_info['Minimum expected profit']"
   ]
  },
  {
   "cell_type": "code",
   "execution_count": 3,
   "metadata": {},
   "outputs": [
    {
     "output_type": "stream",
     "name": "stdout",
     "text": [
      "Using license file C:\\Users\\user\\gurobi.lic\n",
      "Academic license - for non-commercial use only\n",
      "Gurobi Optimizer version 9.0.2 build v9.0.2rc0 (win64)\n",
      "Optimize a model with 2 rows, 3 columns and 6 nonzeros\n",
      "Model fingerprint: 0x84ab935d\n",
      "Model has 3 quadratic objective terms\n",
      "Coefficient statistics:\n",
      "  Matrix range     [2e+01, 6e+01]\n",
      "  Objective range  [0e+00, 0e+00]\n",
      "  QObjective range [2e+02, 3e+03]\n",
      "  Bounds range     [0e+00, 0e+00]\n",
      "  RHS range        [1e+05, 1e+05]\n",
      "Presolve time: 0.02s\n",
      "Presolved: 2 rows, 3 columns, 6 nonzeros\n",
      "Presolved model has 3 quadratic objective terms\n",
      "Ordering time: 0.00s\n",
      "\n",
      "Barrier statistics:\n",
      " AA' NZ     : 1.000e+00\n",
      " Factor NZ  : 3.000e+00\n",
      " Factor Ops : 5.000e+00 (less than 1 second per iteration)\n",
      " Threads    : 1\n",
      "\n",
      "                  Objective                Residual\n",
      "Iter       Primal          Dual         Primal    Dual     Compl     Time\n",
      "   0   2.03097721e+09 -2.03097721e+09  3.40e+04 2.23e+04  3.15e+08     0s\n",
      "   1   5.66591324e+08 -4.97182349e+08  6.79e+03 7.75e+03  1.24e+08     0s\n",
      "   2   5.92995296e+08  2.34259833e+07  8.91e+03 2.69e+03  8.54e+07     0s\n",
      "   3   3.84752749e+08  2.92382908e+08  2.32e+03 7.07e+02  2.03e+07     0s\n",
      "   4   4.33655425e+08  4.72709996e+08  1.14e+03 4.30e+02  1.90e+07     0s\n",
      "   5   4.95678930e+08  8.14886122e+08  9.23e+02 2.74e+02  1.69e+07     0s\n",
      "   6   1.68275932e+09  1.24036759e+09  0.00e+00 2.74e-04  8.85e+07     0s\n",
      "   7   1.30677756e+09  1.28688757e+09  0.00e+00 4.40e-10  3.98e+06     0s\n",
      "   8   1.28890668e+09  1.28888695e+09  0.00e+00 7.28e-11  3.95e+03     0s\n",
      "   9   1.28888891e+09  1.28888889e+09  0.00e+00 2.91e-11  3.95e+00     0s\n",
      "  10   1.28888889e+09  1.28888889e+09  0.00e+00 2.11e-10  3.95e-03     0s\n",
      "  11   1.28888889e+09  1.28888889e+09  2.55e-12 8.00e-11  3.96e-06     0s\n",
      "  12   1.28888889e+09  1.28888889e+09  3.64e-12 5.45e-11  3.96e-09     0s\n",
      "\n",
      "Barrier solved model in 12 iterations and 0.05 seconds\n",
      "Optimal objective 1.28888889e+09\n",
      "\n"
     ]
    }
   ],
   "source": [
    "eg3 = Model(\"eg3\")    # build a new model\n",
    "    \n",
    "# add variables as a list\n",
    "x = []\n",
    "for i in stocks:\n",
    "    x.append(eg3.addVar(lb = 0, vtype = GRB.CONTINUOUS, name = \"x\" + str(i+1)))\n",
    "                 \n",
    "# setting the objective function \n",
    "eg3.setObjective(quicksum((variances[i] * x[i] * x[i]) for i in stocks), GRB.MINIMIZE) \n",
    "\n",
    "# add constraints and name them\n",
    "eg3.addConstr(quicksum(prices[i] * x[i] for i in stocks) <= budget, \"budget_limit\")\n",
    "eg3.addConstr(quicksum(exp_prices[i] * x[i] for i in stocks) >= min_exp_rev, \"min_revenue\")\n",
    "    \n",
    "eg3.optimize()"
   ]
  },
  {
   "cell_type": "code",
   "execution_count": 4,
   "metadata": {},
   "outputs": [
    {
     "output_type": "stream",
     "name": "stdout",
     "text": [
      "x1 = 1333.333333333335\nx2 = 833.3333333333313\nx3 = 5.2064798070717974e-15\nz* = 1288888888.888884\nExpected profit = 115000.0\nTotal spending = 100000.00000000001\n"
     ]
    }
   ],
   "source": [
    "for i in stocks:\n",
    "    print(x[i].varName, '=', x[i].x)\n",
    "\n",
    "print(\"z* =\", eg3.objVal)    # print objective value\n",
    "\n",
    "print(\"Expected profit =\", sum(exp_prices[i] * x[i].x for i in stocks))\n",
    "print(\"Total spending =\", sum(prices[i] * x[i].x for i in stocks))"
   ]
  },
  {
   "cell_type": "markdown",
   "metadata": {},
   "source": [
    "***Exercise*** Suppose that our goal becomes maximizing total profit, given an upper bound of the risk. How should we modify the code?"
   ]
  }
 ],
 "metadata": {
  "kernelspec": {
   "display_name": "Python 3",
   "language": "python",
   "name": "python3"
  },
  "language_info": {
   "codemirror_mode": {
    "name": "ipython",
    "version": 3
   },
   "file_extension": ".py",
   "mimetype": "text/x-python",
   "name": "python",
   "nbconvert_exporter": "python",
   "pygments_lexer": "ipython3",
   "version": "3.7.6-final"
  }
 },
 "nbformat": 4,
 "nbformat_minor": 4
}