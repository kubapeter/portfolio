{
 "cells": [
  {
   "cell_type": "markdown",
   "metadata": {},
   "source": [
    "# Operations Reasearch: Examples for Gurobipy\n",
    "\n",
    "This code is for students who take the class Operations Research.\n",
    "Students should finish the installation of Gurobi and Python before started and make sure an academic liscense for Gurobi is applied and activated.\n",
    "\n",
    "We introduce an example for linear programming problem in order to help students understand how to solve optimization programs with codes.\n",
    "More insturction is provided in the lecture video."
   ]
  },
  {
   "cell_type": "markdown",
   "metadata": {},
   "source": [
    "## Producing desks and tables\n",
    "\n",
    "Consider the problem we introduced in Operations Research: Modeling and Application, we have\n",
    "\n",
    "\\begin{split}\n",
    "    \\begin{array}{r}\n",
    "        \\max \\\\ \\mbox{s.t.} \\\\ \\\\ \\\\ \\\\ \\\\ \n",
    "    \\end{array} &\n",
    "    \\begin{array}{rcrcll}\n",
    "        700x_1 & + & 900x_2 & & & \\\\ \n",
    "        3x_1 & + & 5x_2 & \\leq & 3600\\quad\\! & \\mbox{(wood)} \\\\\t\t\n",
    "        x_1 & + & 2x_2 & \\leq & 1600\\quad\\! & \\mbox{(labor)} \\\\\t\t\n",
    "        50x_1 & + & 20x_2 & \\leq & 48000\\:\\ & \\mbox{(machine)} \\\\\n",
    "        x_1 & & & \\geq & 0\n",
    "        \\\\\n",
    "        & & x_2 & \\geq & 0.\n",
    "    \\end{array}\n",
    "\\end{split}\n",
    "\n",
    "Let's consturct our problem with Gurobi step by step."
   ]
  },
  {
   "cell_type": "markdown",
   "metadata": {},
   "source": [
    " We should import the Gurobi optimization package called **gurobipy** first."
   ]
  },
  {
   "cell_type": "code",
   "execution_count": 1,
   "metadata": {},
   "outputs": [],
   "source": [
    "from gurobipy import *"
   ]
  },
  {
   "cell_type": "markdown",
   "metadata": {},
   "source": [
    "Use Gurobi functions **Model** and **addVar** to build a new model and add variables. Remember to set proper parameters as function inputs. In **addVar**, use **lb** to set the lower bound, **vtype** to set the type, and **name** to set the name of a variable.\n",
    "\n",
    "Besides, the paramter value **GRB.CONTINUOUS** means the variable is a continuous number."
   ]
  },
  {
   "cell_type": "code",
   "execution_count": 2,
   "metadata": {},
   "outputs": [
    {
     "name": "stdout",
     "output_type": "stream",
     "text": [
      "Using license file C:\\Users\\user\\gurobi.lic\n",
      "Academic license - for non-commercial use only\n"
     ]
    }
   ],
   "source": [
    "# build a new model\n",
    "eg1 = Model(\"eg1\")  # build a new model, name it as \"eg1\"\n",
    "\n",
    "x1 = eg1.addVar(lb = 0, vtype = GRB.CONTINUOUS, name = 'x1')\n",
    "x2 = eg1.addVar(lb = 0, vtype = GRB.CONTINUOUS, name = \"x2\")"
   ]
  },
  {
   "cell_type": "markdown",
   "metadata": {},
   "source": [
    "Use function **setObjective** and **addConstr** to set the objective function and add some constraints. It's necessary to set whether a problem is a maximization or minimization program. Also, remember to give all constraints, variables and the model distinct names."
   ]
  },
  {
   "cell_type": "code",
   "execution_count": 3,
   "metadata": {},
   "outputs": [
    {
     "data": {
      "text/plain": [
       "<gurobi.Constr *Awaiting Model Update*>"
      ]
     },
     "execution_count": 3,
     "metadata": {},
     "output_type": "execute_result"
    }
   ],
   "source": [
    "# setting the objective function\n",
    "# use GRB.MAXIMIZE for a maximization problem\n",
    "eg1.setObjective(700 * x1 + 900 * x2, GRB.MAXIMIZE) \n",
    "\n",
    "# add constraints and name them\n",
    "eg1.addConstr(3 * x1 + 5 * x2 <= 3600, \"resource_wood\")\n",
    "eg1.addConstr(x1 + 2 * x2 <= 1600, \"resource_labor\")\n",
    "eg1.addConstr(50 * x1 + 20 * x2 <= 48000, \"resource_machine\")"
   ]
  },
  {
   "cell_type": "markdown",
   "metadata": {},
   "source": [
    "Use **optimize** to run and solve the model. Finally, we can use **getVars** to list all of the variables and use **objVal** to get the objective value."
   ]
  },
  {
   "cell_type": "code",
   "execution_count": 4,
   "metadata": {},
   "outputs": [
    {
     "name": "stdout",
     "output_type": "stream",
     "text": [
      "Gurobi Optimizer version 9.0.2 build v9.0.2rc0 (win64)\n",
      "Optimize a model with 3 rows, 2 columns and 6 nonzeros\n",
      "Model fingerprint: 0xa395d65c\n",
      "Coefficient statistics:\n",
      "  Matrix range     [1e+00, 5e+01]\n",
      "  Objective range  [7e+02, 9e+02]\n",
      "  Bounds range     [0e+00, 0e+00]\n",
      "  RHS range        [2e+03, 5e+04]\n",
      "Presolve time: 0.02s\n",
      "Presolved: 3 rows, 2 columns, 6 nonzeros\n",
      "\n",
      "Iteration    Objective       Primal Inf.    Dual Inf.      Time\n",
      "       0    2.0000000e+32   3.593750e+30   2.000000e+02      0s\n",
      "       3    7.8947368e+05   0.000000e+00   0.000000e+00      0s\n",
      "\n",
      "Solved in 3 iterations and 0.04 seconds\n",
      "Optimal objective  7.894736842e+05\n"
     ]
    }
   ],
   "source": [
    "eg1.optimize()"
   ]
  },
  {
   "cell_type": "code",
   "execution_count": 5,
   "metadata": {},
   "outputs": [
    {
     "name": "stdout",
     "output_type": "stream",
     "text": [
      "x1 = 884.2105263157895\n",
      "x2 = 189.47368421052633\n",
      "objective value = 789473.6842105263\n"
     ]
    }
   ],
   "source": [
    "for var in eg1.getVars():\n",
    "    print(var.varName, '=', var.x)\n",
    "print(\"objective value =\", eg1.objVal)"
   ]
  },
  {
   "cell_type": "markdown",
   "metadata": {},
   "source": [
    "Now let's try to decoupling the data from the model. The data part is as below:"
   ]
  },
  {
   "cell_type": "code",
   "execution_count": 6,
   "metadata": {},
   "outputs": [],
   "source": [
    "products = range(2)  # 2 products    \n",
    "resources = range(3)  # 3 resources\n",
    "\n",
    "prices = [700, 900]    \n",
    "resource_consumptions = [[3 , 5 ],\n",
    "                         [1 , 2 ],\n",
    "                         [50, 20]]\n",
    "resource_limitations = [3600, 1600, 48000]"
   ]
  },
  {
   "cell_type": "markdown",
   "metadata": {},
   "source": [
    "We can rewrite our model in a simpler way."
   ]
  },
  {
   "cell_type": "code",
   "execution_count": 7,
   "metadata": {},
   "outputs": [
    {
     "name": "stdout",
     "output_type": "stream",
     "text": [
      "Gurobi Optimizer version 9.0.2 build v9.0.2rc0 (win64)\n",
      "Optimize a model with 3 rows, 2 columns and 6 nonzeros\n",
      "Model fingerprint: 0xa395d65c\n",
      "Coefficient statistics:\n",
      "  Matrix range     [1e+00, 5e+01]\n",
      "  Objective range  [7e+02, 9e+02]\n",
      "  Bounds range     [0e+00, 0e+00]\n",
      "  RHS range        [2e+03, 5e+04]\n",
      "Presolve time: 0.01s\n",
      "Presolved: 3 rows, 2 columns, 6 nonzeros\n",
      "\n",
      "Iteration    Objective       Primal Inf.    Dual Inf.      Time\n",
      "       0    2.0000000e+32   3.593750e+30   2.000000e+02      0s\n",
      "       3    7.8947368e+05   0.000000e+00   0.000000e+00      0s\n",
      "\n",
      "Solved in 3 iterations and 0.02 seconds\n",
      "Optimal objective  7.894736842e+05\n",
      "x0 = 884.2105263157895\n",
      "x1 = 189.47368421052633\n",
      "objective value = 789473.6842105263\n"
     ]
    }
   ],
   "source": [
    "eg1_decoupling = Model(\"eg1_decoupling\")\n",
    "\n",
    "x = []\n",
    "for i in products:\n",
    "    x.append(eg1_decoupling.addVar(lb = 0, vtype = GRB.CONTINUOUS, name = 'x' + str(i)))\n",
    "\n",
    "eg1_decoupling.setObjective(quicksum(prices[i] * x[i] for i in products) , GRB.MAXIMIZE) \n",
    "\n",
    "# add constraints and name them\n",
    "eg1_decoupling.addConstrs((quicksum(resource_consumptions[j][i] * x[i] for i in products) \n",
    "                           <= resource_limitations[j] for j in resources), \"Resource_limitation\")\n",
    "\n",
    "eg1_decoupling.optimize()\n",
    "\n",
    "for var in eg1_decoupling.getVars():\n",
    "    print(var.varName, '=', var.x)\n",
    "print(\"objective value =\", eg1_decoupling.objVal)"
   ]
  }
 ],
 "metadata": {
  "kernelspec": {
   "display_name": "Python 3",
   "language": "python",
   "name": "python3"
  },
  "language_info": {
   "codemirror_mode": {
    "name": "ipython",
    "version": 3
   },
   "file_extension": ".py",
   "mimetype": "text/x-python",
   "name": "python",
   "nbconvert_exporter": "python",
   "pygments_lexer": "ipython3",
   "version": "3.7.6"
  }
 },
 "nbformat": 4,
 "nbformat_minor": 4
}