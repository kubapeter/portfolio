{
 "cells": [
  {
   "cell_type": "markdown",
   "metadata": {},
   "source": [
    "# Operations Reasearch: Examples for Gurobipy\n",
    "\n",
    "This code is for students who take the class Operations Research.\n",
    "Students should finish the installation of Gurobi and Python before started and make sure an academic liscense for Gurobi is applied and activated.\n",
    "\n",
    "We introduce an example for integer programming problem in order to help students understand how to solve optimization programs with codes.\n",
    "More insturction is provided in the lecture video."
   ]
  },
  {
   "source": [
    "## Facility location\n",
    "In this example, we have binary variables included in our model. The purpose of this section is to help student understand how to solve integer programs by Gurobi.\n",
    "\n",
    "The problem description is provided in the lecture video and slides. The formulation is\n",
    "\\begin{array}{rll}\n",
    "                \\min & \\displaystyle \\sum_{j=1}^{5} f_jx_j + \\sum_{i=1}^{5} \\sum_{j=1}^{5} c_{ij}y_{ij} & \\\\[15pt]\n",
    "                \\mbox{s.t.}  \n",
    "                    & \\displaystyle \\sum_{i=1}^{5} y_{ij} \\leq K_jx_j & \\forall j = 1,...,5 \\\\[15pt]\n",
    "                    & \\displaystyle \\sum_{j=1}^{5} y_{ij} \\geq D_i & \\forall i = 1,...,5 \\\\[15pt]\n",
    "                    & x_{j} \\in \\{0, 1\\} &\\forall j = 1,...,5 \\\\[5pt]\n",
    "                    & y_{ij} \\geq 0 & \\forall i = 1,...,5, j = 1,...,5.\n",
    "\\end{array}"
   ],
   "cell_type": "markdown",
   "metadata": {}
  },
  {
   "cell_type": "code",
   "execution_count": 1,
   "metadata": {},
   "outputs": [],
   "source": [
    "from gurobipy import *\n",
    "import pandas as pd"
   ]
  },
  {
   "cell_type": "code",
   "execution_count": 2,
   "metadata": {},
   "outputs": [],
   "source": [
    "# Read excel sheets and transform them into lists and matrices\n",
    "basic_info = pd.read_excel('IP_dataset.xlsx', 'Basic information')\n",
    "cities = range(len(basic_info['City']))\n",
    "markets = range(len(basic_info['Market']))\n",
    "\n",
    "city_info = pd.read_excel('IP_dataset.xlsx', 'City\\'s information')\n",
    "operating_costs = city_info['Operating cost']\n",
    "capacities = city_info['Capacity']\n",
    "\n",
    "market_info = pd.read_excel('IP_dataset.xlsx', 'Market\\'s information')\n",
    "demands = market_info['Demand']\n",
    "\n",
    "shipping_info = pd.read_excel('IP_dataset.xlsx', 'Shipping cost', index_col = 0)\n",
    "shipping_costs = []\n",
    "for i in shipping_info.index:\n",
    "    shipping_costs.append(list(shipping_info.loc[i]))"
   ]
  },
  {
   "cell_type": "code",
   "execution_count": 3,
   "metadata": {},
   "outputs": [
    {
     "output_type": "stream",
     "name": "stdout",
     "text": [
      "Using license file C:\\Users\\user\\gurobi.lic\n",
      "Academic license - for non-commercial use only\n",
      "Gurobi Optimizer version 9.0.2 build v9.0.2rc0 (win64)\n",
      "Optimize a model with 10 rows, 30 columns and 55 nonzeros\n",
      "Model fingerprint: 0x263201cb\n",
      "Variable types: 25 continuous, 5 integer (5 binary)\n",
      "Coefficient statistics:\n",
      "  Matrix range     [1e+00, 3e+04]\n",
      "  Objective range  [2e+00, 4e+04]\n",
      "  Bounds range     [1e+00, 1e+00]\n",
      "  RHS range        [8e+03, 2e+04]\n",
      "Presolve time: 0.00s\n",
      "Presolved: 10 rows, 30 columns, 55 nonzeros\n",
      "Variable types: 25 continuous, 5 integer (5 binary)\n",
      "\n",
      "Root relaxation: objective 2.528000e+05, 11 iterations, 0.00 seconds\n",
      "\n",
      "    Nodes    |    Current Node    |     Objective Bounds      |     Work\n",
      " Expl Unexpl |  Obj  Depth IntInf | Incumbent    BestBd   Gap | It/Node Time\n",
      "\n",
      "     0     0 252800.000    0    5          - 252800.000      -     -    0s\n",
      "H    0     0                    313600.00000 252800.000  19.4%     -    0s\n",
      "H    0     0                    280400.00000 252800.000  9.84%     -    0s\n",
      "     0     0 266813.478    0    3 280400.000 266813.478  4.85%     -    0s\n",
      "H    0     0                    272800.00000 266813.478  2.19%     -    0s\n",
      "H    0     0                    268950.00000 266813.478  0.79%     -    0s\n",
      "\n",
      "Cutting planes:\n",
      "  Gomory: 5\n",
      "  Implied bound: 5\n",
      "  MIR: 2\n",
      "  Flow cover: 1\n",
      "\n",
      "Explored 1 nodes (16 simplex iterations) in 0.08 seconds\n",
      "Thread count was 8 (of 8 available processors)\n",
      "\n",
      "Solution count 4: 268950 272800 280400 313600 \n",
      "\n",
      "Optimal solution found (tolerance 1.00e-04)\n",
      "Best objective 2.689500000000e+05, best bound 2.689500000000e+05, gap 0.0000%\n"
     ]
    }
   ],
   "source": [
    "eg2 = Model(\"eg2\")    # build a new model\n",
    "    \n",
    "# add variables as a list\n",
    "x = []\n",
    "for j in cities:\n",
    "    x.append(eg2.addVar(lb = 0, vtype = GRB.BINARY, name = \"x\" + str(j+1)))\n",
    "             \n",
    "y = []\n",
    "for i in markets:\n",
    "    y.append([])\n",
    "    for j in cities:\n",
    "        y[i].append(eg2.addVar(lb = 0, vtype = GRB.CONTINUOUS, name = \"y\" + str(i+1) + str(j+1)))\n",
    "        \n",
    "# setting the objective function \n",
    "eg2.setObjective(\n",
    "    quicksum(operating_costs[j] * x[j] for j in cities) \n",
    "    +  quicksum(quicksum(shipping_costs[i][j] * y[i][j] for j in cities) for i in markets)\n",
    "    , GRB.MINIMIZE) \n",
    "\n",
    "# add constraints and name them\n",
    "eg2.addConstrs((quicksum(y[i][j] for i in markets) <= capacities[j] * x[j] \n",
    "                for j in cities), \"productCapacity\")\n",
    "\n",
    "eg2.addConstrs((quicksum(y[i][j] for j in cities) >= demands[i]\n",
    "                for i in markets), \"demand_fulfillment\")\n",
    "    \n",
    "eg2.optimize()"
   ]
  },
  {
   "cell_type": "code",
   "execution_count": 4,
   "metadata": {},
   "outputs": [
    {
     "output_type": "stream",
     "name": "stdout",
     "text": [
      "Result:\nx1 = 0.0\nx2 = 1.0\nx3 = 0.0\nx4 = 1.0\nx5 = 1.0\n\tMarket1\tMarket2\tMarket3\tMarket4\tMarket5\nCity1 \t0.0 \t0.0 \t0.0 \t0.0 \t0.0 \t\nCity2 \t8000.0 \t12000.0 0.0 \t0.0 \t0.0 \t\nCity3 \t0.0 \t0.0 \t0.0 \t0.0 \t0.0 \t\nCity4 \t0.0 \t0.0 \t8000.0 \t0.0 \t17000.0 \nCity5 \t0.0 \t0.0 \t1000.0 \t14000.0 0.0 \t\nz* = 268950.0\n"
     ]
    }
   ],
   "source": [
    "print(\"Result:\")\n",
    "\n",
    "for j in cities:\n",
    "    print(x[j].varName, '=', x[j].x)\n",
    "# head of the result table\n",
    "print(\"\\tMarket1\\tMarket2\\tMarket3\\tMarket4\\tMarket5\")\n",
    "\n",
    "for j in cities:\n",
    "    # mark which product is printed now\n",
    "    print(\"City\" + str(j+1), \"\\t\", end=\"\")\n",
    "    for i in markets:\n",
    "        # print values of each kind of product\n",
    "        if len(str(y[i][j].x)) < 7:\n",
    "            print(y[i][j].x, \"\\t\", end=\"\")\n",
    "        else:\n",
    "            print(y[i][j].x, \"\", end=\"\")\n",
    "    print(\"\")    # use for change line\n",
    "\n",
    "print(\"z* =\", eg2.objVal)    # print objective value"
   ]
  },
  {
   "cell_type": "markdown",
   "metadata": {},
   "source": [
    "***Exercise*** Suppose now the company wants to set up at least 4 centers for some reasons, how should we modify the model?"
   ]
  }
 ],
 "metadata": {
  "kernelspec": {
   "display_name": "Python 3",
   "language": "python",
   "name": "python3"
  },
  "language_info": {
   "codemirror_mode": {
    "name": "ipython",
    "version": 3
   },
   "file_extension": ".py",
   "mimetype": "text/x-python",
   "name": "python",
   "nbconvert_exporter": "python",
   "pygments_lexer": "ipython3",
   "version": "3.7.6-final"
  }
 },
 "nbformat": 4,
 "nbformat_minor": 4
}