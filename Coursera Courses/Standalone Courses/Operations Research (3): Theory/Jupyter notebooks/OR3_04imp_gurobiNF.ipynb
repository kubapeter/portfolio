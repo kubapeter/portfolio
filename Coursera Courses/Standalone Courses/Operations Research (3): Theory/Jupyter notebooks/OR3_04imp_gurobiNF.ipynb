{
 "cells": [
  {
   "cell_type": "markdown",
   "metadata": {},
   "source": [
    "# Operations Research 3: Examples for Theory\n",
    "\n",
    "This code is for students who take the class Operations Research. Students should finish the installation of Gurobi and Python before workersed and make sure an academic liscense for Gurobi is applied and activated.\n",
    "\n",
    "We introduce an example for Network flow problem in order to help students understand how to implement theories introduced in lectures with codes. More instruction is provided in the lecture video."
   ]
  },
  {
   "cell_type": "markdown",
   "metadata": {},
   "source": [
    "# Network Flow Problem\n",
    "## Example: Assignment Problem"
   ]
  },
  {
   "cell_type": "markdown",
   "metadata": {},
   "source": [
    "Import instance of an assignment problem. \\\n",
    "In the file, we have the arcs of a bipartite graph. Each arc means if the job $i$ is assigned to worker $j$, we should pay the cost $c_{ij}$. \\\n",
    "Each worker and job should be assigned no greater than one time in an assignment problem."
   ]
  },
  {
   "cell_type": "code",
   "execution_count": 1,
   "metadata": {},
   "outputs": [],
   "source": [
    "from gurobipy import *\n",
    "import pandas as pd\n",
    "import numpy as np"
   ]
  },
  {
   "cell_type": "code",
   "execution_count": 2,
   "metadata": {},
   "outputs": [],
   "source": [
    "graph_info = pd.read_excel('bipartite_arcs_set.xlsx', 'graph')"
   ]
  },
  {
   "cell_type": "code",
   "execution_count": 3,
   "metadata": {},
   "outputs": [
    {
     "name": "stdout",
     "output_type": "stream",
     "text": [
      "   jobs workers  cost\n",
      "0     A       E     2\n",
      "1     A       F  9999\n",
      "2     A       G    10\n",
      "3     A       H     7\n",
      "4     B       E  9999\n",
      "5     B       F     4\n",
      "6     B       G     3\n",
      "7     B       H  9999\n",
      "8     C       E     8\n",
      "9     C       F     2\n",
      "10    C       G     5\n",
      "11    C       H  9999\n",
      "12    D       E     7\n",
      "13    D       F  9999\n",
      "14    D       G     1\n",
      "15    D       H     6\n"
     ]
    }
   ],
   "source": [
    "print(graph_info)"
   ]
  },
  {
   "cell_type": "markdown",
   "metadata": {},
   "source": [
    "Prepare data into different format to make us construct model more efficiently."
   ]
  },
  {
   "cell_type": "code",
   "execution_count": 4,
   "metadata": {},
   "outputs": [],
   "source": [
    "# put arcs into a dictionary\n",
    "\n",
    "flow_dict = {}\n",
    "\n",
    "for i in range(len(graph_info)):\n",
    "    flow_dict[(graph_info['jobs'][i], graph_info['workers'][i])] = graph_info['cost'][i]"
   ]
  },
  {
   "cell_type": "code",
   "execution_count": 5,
   "metadata": {},
   "outputs": [],
   "source": [
    "# get workers and jobs sets\n",
    "\n",
    "workers_spot = set(np.unique(graph_info['workers']))\n",
    "jobs_spot = set(np.unique(graph_info['jobs']))"
   ]
  },
  {
   "cell_type": "code",
   "execution_count": 6,
   "metadata": {},
   "outputs": [],
   "source": [
    "# seperate arcs and cost\n",
    "\n",
    "arcs, cost = multidict(flow_dict)"
   ]
  },
  {
   "cell_type": "markdown",
   "metadata": {},
   "source": [
    "After preparing data, we construct a model to solve the assignment problem."
   ]
  },
  {
   "cell_type": "code",
   "execution_count": 7,
   "metadata": {},
   "outputs": [
    {
     "name": "stdout",
     "output_type": "stream",
     "text": [
      "Using license file /Users/jennytzeng/gurobi.lic\n",
      "Academic license - for non-commercial use only\n",
      "Gurobi Optimizer version 9.0.2 build v9.0.2rc0 (mac64)\n",
      "Optimize a model with 8 rows, 16 columns and 32 nonzeros\n",
      "Model fingerprint: 0xda4ae30c\n",
      "Coefficient statistics:\n",
      "  Matrix range     [1e+00, 1e+00]\n",
      "  Objective range  [1e+00, 1e+04]\n",
      "  Bounds range     [0e+00, 0e+00]\n",
      "  RHS range        [1e+00, 1e+00]\n",
      "Presolve time: 0.01s\n",
      "Presolved: 8 rows, 16 columns, 32 nonzeros\n",
      "\n",
      "Iteration    Objective       Primal Inf.    Dual Inf.      Time\n",
      "       0    8.0000000e+00   2.000000e+00   0.000000e+00      0s\n",
      "       2    1.3000000e+01   0.000000e+00   0.000000e+00      0s\n",
      "\n",
      "Solved in 2 iterations and 0.02 seconds\n",
      "Optimal objective  1.300000000e+01\n",
      "xAE = 1.0\n",
      "xAF = 0.0\n",
      "xAG = 0.0\n",
      "xAH = 0.0\n",
      "xBE = 0.0\n",
      "xBF = 0.0\n",
      "xBG = 1.0\n",
      "xBH = 0.0\n",
      "xCE = 0.0\n",
      "xCF = 1.0\n",
      "xCG = 0.0\n",
      "xCH = 0.0\n",
      "xDE = 0.0\n",
      "xDF = 0.0\n",
      "xDG = 0.0\n",
      "xDH = 1.0\n",
      "objective value = 13.0\n"
     ]
    }
   ],
   "source": [
    "eg3 = Model('Assignment')\n",
    "\n",
    "\n",
    "# add variables (arcs)\n",
    "x = {}\n",
    "for arc in arcs:\n",
    "    x[arc] = eg3.addVar(lb = 0, vtype = GRB.CONTINUOUS, name = 'x' + arc[0] + arc[1])\n",
    "\n",
    "\n",
    "# set objective value\n",
    "eg3.setObjective(quicksum(x[arc] * cost[arc] for arc in arcs), GRB.MINIMIZE)\n",
    "\n",
    "\n",
    "\n",
    "# each worker and job could be select no less than one time\n",
    "for job in jobs_spot:\n",
    "    arcs_list = []\n",
    "    for arc in arcs:\n",
    "        if arc[0] == job:\n",
    "            arcs_list.append(x[arc])\n",
    "        else:\n",
    "            pass   \n",
    "    eg3.addConstr(quicksum(arcs_list) == 1, name = 'job' + job)\n",
    "\n",
    "    \n",
    "for worker in workers_spot:\n",
    "    arcs_list = []\n",
    "    for arc in arcs:\n",
    "        if arc[1] == worker:\n",
    "            arcs_list.append(x[arc])\n",
    "        else:\n",
    "            pass\n",
    "    eg3.addConstr(quicksum(arcs_list) == 1, name = 'worker' + worker)\n",
    "\n",
    "\n",
    "eg3.optimize()\n",
    "\n",
    "\n",
    "# Print solution\n",
    "for var in eg3.getVars():\n",
    "    print(var.varName, '=', var.x)\n",
    "print(\"objective value =\", eg3.objVal)"
   ]
  }
 ],
 "metadata": {
  "kernelspec": {
   "display_name": "Python 3",
   "language": "python",
   "name": "python3"
  },
  "language_info": {
   "codemirror_mode": {
    "name": "ipython",
    "version": 3
   },
   "file_extension": ".py",
   "mimetype": "text/x-python",
   "name": "python",
   "nbconvert_exporter": "python",
   "pygments_lexer": "ipython3",
   "version": "3.8.3"
  }
 },
 "nbformat": 4,
 "nbformat_minor": 4
}
